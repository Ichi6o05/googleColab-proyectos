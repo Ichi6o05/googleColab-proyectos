{
  "nbformat": 4,
  "nbformat_minor": 0,
  "metadata": {
    "colab": {
      "provenance": [],
      "include_colab_link": true
    },
    "kernelspec": {
      "name": "python3",
      "display_name": "Python 3"
    },
    "language_info": {
      "name": "python"
    }
  },
  "cells": [
    {
      "cell_type": "markdown",
      "metadata": {
        "id": "view-in-github",
        "colab_type": "text"
      },
      "source": [
        "<a href=\"https://colab.research.google.com/github/Ichi6o05/googleColab-proyectos/blob/main/Descargar_mp3_youtube.ipynb\" target=\"_parent\"><img src=\"https://colab.research.google.com/assets/colab-badge.svg\" alt=\"Open In Colab\"/></a>"
      ]
    },
    {
      "cell_type": "code",
      "execution_count": null,
      "metadata": {
        "id": "ujevTjpUxQh7"
      },
      "outputs": [],
      "source": [
        "# Preisona el boton de ejecución. Se instalaran librerias. Solo se realiza 1 vez en cada sesión.\n",
        "!pip install yt-dlp\n",
        "!apt install ffmpeg -y"
      ]
    },
    {
      "cell_type": "code",
      "source": [
        "# Aqui es donde se te pedira el enlace mas abajo, insertalo y luego ejecuta lo siguiente para descargarlo a tu dispositivo.\n",
        "import yt_dlp\n",
        "\n",
        "def descargar_mp3(url):\n",
        "    opciones = {\n",
        "        'format': 'bestaudio/best',\n",
        "        'outtmpl': '/content/%(title)s.%(ext)s',  # Guardar en la carpeta temporal de Colab\n",
        "        'postprocessors': [{\n",
        "            'key': 'FFmpegExtractAudio',\n",
        "            'preferredcodec': 'mp3',\n",
        "            'preferredquality': '192',\n",
        "        }],\n",
        "    }\n",
        "\n",
        "    with yt_dlp.YoutubeDL(opciones) as ydl:\n",
        "        info = ydl.extract_info(url, download=True)\n",
        "        archivo_mp3 = f\"/content/{info['title']}.mp3\"\n",
        "        print(f\"Descarga completada: {archivo_mp3}\")\n",
        "        return archivo_mp3\n",
        "\n",
        "# Pedir URL al usuario\n",
        "enlace = input(\"Ingresa el enlace de YouTube: \")\n",
        "archivo_descargado = descargar_mp3(enlace)"
      ],
      "metadata": {
        "id": "q6WevaLtxlQq"
      },
      "execution_count": null,
      "outputs": []
    },
    {
      "cell_type": "code",
      "source": [
        "# Esto descarga el archivo a tu dispositivo.\n",
        "from google.colab import files\n",
        "files.download(archivo_descargado)"
      ],
      "metadata": {
        "id": "m2s-uSZYylKc"
      },
      "execution_count": null,
      "outputs": []
    }
  ]
}